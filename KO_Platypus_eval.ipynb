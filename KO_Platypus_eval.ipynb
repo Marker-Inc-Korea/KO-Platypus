{
  "cells": [
    {
      "cell_type": "markdown",
      "metadata": {
        "id": "2o5_-5jfVURK"
      },
      "source": [
        "## Setting"
      ]
    },
    {
      "cell_type": "markdown",
      "metadata": {
        "id": "dxQ_MBDLBJ6h"
      },
      "source": [
        "## Testing with github"
      ]
    },
    {
      "cell_type": "code",
      "execution_count": null,
      "metadata": {
        "colab": {
          "base_uri": "https://localhost:8080/"
        },
        "id": "p0_h_Y9Oc1IC",
        "outputId": "53d351e0-453c-4995-c8cd-aa35bbb0d71c"
      },
      "outputs": [],
      "source": [
        "from google.colab import drive\n",
        "drive.mount('/content/drive')"
      ]
    },
    {
      "cell_type": "code",
      "execution_count": null,
      "metadata": {
        "colab": {
          "base_uri": "https://localhost:8080/"
        },
        "id": "oPQWcu9EBLwW",
        "outputId": "a09c61cd-0042-4b61-ea58-bd29da256c38"
      },
      "outputs": [],
      "source": [
        "# https://github.com/EleutherAI/lm-evaluation-harness/tree/polyglot\n",
        "# https://github.com/Beomi/ko-lm-evaluation-harness\n",
        "%cd /content/drive/MyDrive"
      ]
    },
    {
      "cell_type": "code",
      "execution_count": null,
      "metadata": {
        "colab": {
          "base_uri": "https://localhost:8080/",
          "height": 1000
        },
        "id": "--64twbA9ytw",
        "outputId": "c3bba32e-7346-4103-a73d-0139b2ff8081"
      },
      "outputs": [],
      "source": [
        "!git clone https://github.com/Beomi/ko-lm-evaluation-harness\n",
        "%cd ./ko-lm-evaluation-harness\n",
        "!pip install -e ."
      ]
    },
    {
      "cell_type": "code",
      "execution_count": null,
      "metadata": {
        "colab": {
          "base_uri": "https://localhost:8080/"
        },
        "id": "4GRf8rQ642-Z",
        "outputId": "5e3d702c-2cbd-4cc2-d586-b858782a51d2"
      },
      "outputs": [],
      "source": [
        "!pip install evaluate"
      ]
    },
    {
      "cell_type": "code",
      "execution_count": null,
      "metadata": {
        "colab": {
          "base_uri": "https://localhost:8080/"
        },
        "id": "6bAA6hW9Bquu",
        "outputId": "f430f50f-906b-4499-dff7-3c9be9121e3d"
      },
      "outputs": [],
      "source": [
        "# huggingface login\n",
        "!huggingface-cli login --token # your token"
      ]
    },
    {
      "cell_type": "code",
      "execution_count": null,
      "metadata": {
        "colab": {
          "base_uri": "https://localhost:8080/"
        },
        "id": "W1vPn1Cb99y5",
        "outputId": "f5055137-f28d-454a-a9d3-746f34791d6c"
      },
      "outputs": [],
      "source": [
        "# ../platypus/checkpoints/kyujinpy/KOrca-Platypus2-13B\n",
        "# garage-bAInd/Platypus2-13B\n",
        "# kyujinpy/KO-Platypus2-13B\n",
        "# kyujinpy/KO-Platypus2-7B-ex\n",
        "\n",
        "!python main.py \\\n",
        "    --model gpt2 \\\n",
        "    --model_args pretrained=kyujinpy/KO-Platypus2-13B \\\n",
        "    --tasks kobest_hellaswag,kobest_copa,kobest_boolq,kobest_sentineg \\\n",
        "    --device cuda:0 \\\n",
        "    --num_fewshot 0"
      ]
    },
    {
      "cell_type": "code",
      "execution_count": null,
      "metadata": {
        "colab": {
          "base_uri": "https://localhost:8080/"
        },
        "id": "YglVph9aD09v",
        "outputId": "1c137ff3-1953-47fe-975b-87a545a28f03"
      },
      "outputs": [],
      "source": [
        "# ../platypus/checkpoints/kyujinpy/KOrca-Platypus2-13B\n",
        "# garage-bAInd/Stable-Platypus2-13B\n",
        "!python main.py \\\n",
        "    --model gpt2 \\\n",
        "    --model_args pretrained=kyujinpy/KO-Platypus2-13B \\\n",
        "    --tasks kobest_hellaswag,kobest_copa,kobest_boolq,kobest_sentineg \\\n",
        "    --device cuda:0 \\\n",
        "    --num_fewshot 5"
      ]
    },
    {
      "cell_type": "code",
      "execution_count": null,
      "metadata": {
        "colab": {
          "base_uri": "https://localhost:8080/"
        },
        "id": "pvSSADWt_JaH",
        "outputId": "21b724d7-e218-4bcd-8672-7be83012e7c5"
      },
      "outputs": [],
      "source": [
        "# ../platypus/checkpoints/kyujinpy/KOrca-Platypus2-13B\n",
        "# garage-bAInd/Stable-Platypus2-13B\n",
        "!python main.py \\\n",
        "    --model gpt2 \\\n",
        "    --model_args pretrained=kyujinpy/KO-Platypus2-13B \\\n",
        "    --tasks kobest_hellaswag,kobest_copa \\\n",
        "    --device cuda:0 \\\n",
        "    --num_fewshot 10"
      ]
    },
    {
      "cell_type": "code",
      "execution_count": null,
      "metadata": {
        "colab": {
          "base_uri": "https://localhost:8080/"
        },
        "id": "ALXs7iUn-7On",
        "outputId": "63400db3-b153-4929-bcd0-20c2e2199ebf"
      },
      "outputs": [],
      "source": [
        "!python main.py \\\n",
        "    --model gpt2 \\\n",
        "    --model_args pretrained=kyujinpy/KO-Platypus2-13B \\\n",
        "    --tasks kobest_boolq,kobest_sentineg \\\n",
        "    --device cuda:0 \\\n",
        "    --num_fewshot 10"
      ]
    },
    {
      "cell_type": "code",
      "execution_count": null,
      "metadata": {
        "colab": {
          "base_uri": "https://localhost:8080/"
        },
        "id": "3biU0wuR_JcY",
        "outputId": "42074aef-4dfa-4cb9-c7c2-3664d39850d8"
      },
      "outputs": [],
      "source": [
        "# ../platypus/checkpoints/kyujinpy/KOrca-Platypus2-13B\n",
        "# garage-bAInd/Stable-Platypus2-13B\n",
        "!python main.py \\\n",
        "    --model gpt2 \\\n",
        "    --model_args pretrained=kyujinpy/KO-Platypus2-13B \\\n",
        "    --tasks kobest_hellaswag,kobest_copa \\\n",
        "    --device cuda:0 \\\n",
        "    --num_fewshot 50"
      ]
    },
    {
      "cell_type": "code",
      "execution_count": null,
      "metadata": {
        "colab": {
          "base_uri": "https://localhost:8080/"
        },
        "id": "IR06wr8u_BJC",
        "outputId": "c65d5d58-4d33-47d5-f3d8-d8939b9bcd30"
      },
      "outputs": [],
      "source": [
        "# kyujinpy/KO-Platypus2-13B\n",
        "!python main.py \\\n",
        "    --model gpt2 \\\n",
        "    --model_args pretrained=kyujinpy/KO-Platypus2-13B \\\n",
        "    --tasks kobest_boolq,kobest_sentineg \\\n",
        "    --device cuda:0 \\\n",
        "    --num_fewshot 50"
      ]
    },
    {
      "cell_type": "code",
      "execution_count": null,
      "metadata": {
        "id": "uSBhaPh9L57M"
      },
      "outputs": [],
      "source": [
        "torch.cuda.empty_cache()"
      ]
    },
    {
      "cell_type": "code",
      "execution_count": null,
      "metadata": {
        "id": "j1FY_wbyMI2M"
      },
      "outputs": [],
      "source": []
    }
  ],
  "metadata": {
    "accelerator": "GPU",
    "colab": {
      "gpuType": "A100",
      "machine_shape": "hm",
      "provenance": []
    },
    "kernelspec": {
      "display_name": "Python 3",
      "name": "python3"
    },
    "language_info": {
      "name": "python"
    },
    "varInspector": {
      "cols": {
        "lenName": 16,
        "lenType": 16,
        "lenVar": 40
      },
      "kernels_config": {
        "python": {
          "delete_cmd_postfix": "",
          "delete_cmd_prefix": "del ",
          "library": "var_list.py",
          "varRefreshCmd": "print(var_dic_list())"
        },
        "r": {
          "delete_cmd_postfix": ") ",
          "delete_cmd_prefix": "rm(",
          "library": "var_list.r",
          "varRefreshCmd": "cat(var_dic_list()) "
        }
      },
      "types_to_exclude": [
        "module",
        "function",
        "builtin_function_or_method",
        "instance",
        "_Feature"
      ],
      "window_display": false
    }
  },
  "nbformat": 4,
  "nbformat_minor": 0
}
