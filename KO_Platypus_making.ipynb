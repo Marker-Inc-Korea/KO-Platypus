{
  "cells": [
    {
      "cell_type": "markdown",
      "metadata": {
        "id": "2o5_-5jfVURK"
      },
      "source": [
        "## Setting"
      ]
    },
    {
      "cell_type": "code",
      "execution_count": null,
      "metadata": {
        "id": "2cLLuMFEmA08"
      },
      "outputs": [],
      "source": [
        "# https://github.com/arielnlee/Platypus\n",
        "# https://huggingface.co/garage-bAInd/Platypus2-13B\n",
        "# Must A100 GPU in colab\n",
        "# 1. Original platypus training\n",
        "# 2. Expansion korea vocab platypus training"
      ]
    },
    {
      "cell_type": "code",
      "execution_count": null,
      "metadata": {
        "colab": {
          "base_uri": "https://localhost:8080/"
        },
        "id": "VRbojokB5G-5",
        "outputId": "419f4289-5d86-4d0f-9e52-92169d7a9f4f"
      },
      "outputs": [],
      "source": [
        "from google.colab import drive\n",
        "drive.mount('/content/drive')"
      ]
    },
    {
      "cell_type": "code",
      "execution_count": null,
      "metadata": {
        "colab": {
          "base_uri": "https://localhost:8080/"
        },
        "id": "ypQAOBi25v-Z",
        "outputId": "dacca6c8-b669-46c0-c013-f4042c554f25"
      },
      "outputs": [],
      "source": [
        "%cd /content/drive/MyDrive/Platypus-main"
      ]
    },
    {
      "cell_type": "code",
      "execution_count": null,
      "metadata": {
        "colab": {
          "base_uri": "https://localhost:8080/"
        },
        "id": "Q9kUXAFl5HEo",
        "outputId": "d3a6d0e6-f5fd-4f10-c7d2-efe10f962928"
      },
      "outputs": [],
      "source": [
        "!pip install -r requirements.txt"
      ]
    },
    {
      "cell_type": "code",
      "execution_count": null,
      "metadata": {
        "colab": {
          "base_uri": "https://localhost:8080/"
        },
        "id": "2X6hL123wulQ",
        "outputId": "13f41f8f-6aa2-4f7a-ae31-7c8cfd193b4f"
      },
      "outputs": [],
      "source": [
        "# huggingface login\n",
        "!huggingface-cli login --token # your token"
      ]
    },
    {
      "cell_type": "code",
      "execution_count": null,
      "metadata": {
        "colab": {
          "base_uri": "https://localhost:8080/"
        },
        "id": "d_gRCFBgyLOP",
        "outputId": "8718b352-9b4f-40bb-9cce-cdf42260ea92"
      },
      "outputs": [],
      "source": [
        "!pip list"
      ]
    },
    {
      "cell_type": "code",
      "execution_count": null,
      "metadata": {
        "colab": {
          "base_uri": "https://localhost:8080/"
        },
        "id": "F5q0E4EV_gnp",
        "outputId": "b7987879-9899-4625-a9bc-140d7efb746a"
      },
      "outputs": [],
      "source": [
        "# checking running -> A100 GPU\n",
        "# You must access llama2's repo.\n",
        "# garage-bAInd/Open-Platypus -> kyujinpy/KOpen-platypus\n",
        "# peft >= 0.3.0\n",
        "\n",
        "!torchrun finetune.py \\\n",
        "    --base_model meta-llama/Llama-2-13b-hf \\\n",
        "    --data-path kyujinpy/KOpen-platypus \\\n",
        "    --output_dir ./ko-platypus2-13b \\\n",
        "    --batch_size 16 \\\n",
        "    --micro_batch_size 1 \\\n",
        "    --num_epochs 1 \\\n",
        "    --learning_rate 0.0004 \\\n",
        "    --cutoff_len 4096 \\\n",
        "    --val_set_size 0 \\\n",
        "    --lora_r 16 \\\n",
        "    --lora_alpha 16 \\\n",
        "    --lora_dropout 0.05 \\\n",
        "    --lora_target_modules '[gate_proj, down_proj, up_proj]' \\\n",
        "    --train_on_inputs False \\\n",
        "    --add_eos_token False \\\n",
        "    --group_by_length False \\\n",
        "    --prompt_template_name alpaca \\\n",
        "    --lr_scheduler 'cosine' \\\n",
        "    --warmup_steps 100 \\\n",
        "    --resume_from_checkpoint './ko-platypus2-13b/checkpoint-1400'"
      ]
    },
    {
      "cell_type": "code",
      "execution_count": null,
      "metadata": {
        "colab": {
          "base_uri": "https://localhost:8080/"
        },
        "id": "g9KnZ3Y93MnP",
        "outputId": "cd4678b3-3103-43b9-af56-5e851d9f8c06"
      },
      "outputs": [],
      "source": [
        "!python merge.py \\\n",
        "    --base_model_name_or_path meta-llama/Llama-2-13b-hf \\\n",
        "    --peft_model_path ./ko-platypus2-13b/peft \\\n",
        "    --output_dir ./ko-platypus2-13b"
      ]
    },
    {
      "cell_type": "code",
      "execution_count": null,
      "metadata": {
        "colab": {
          "base_uri": "https://localhost:8080/"
        },
        "id": "XWRHPgJI3mAE",
        "outputId": "543d2a7b-e14f-47ec-e4ae-475b0f94aad6"
      },
      "outputs": [],
      "source": [
        "# model upload\n",
        "!huggingface-cli login --token # your token"
      ]
    },
    {
      "cell_type": "code",
      "execution_count": null,
      "metadata": {
        "id": "pl0LIORZoRsj"
      },
      "outputs": [],
      "source": [
        "from datasets import load_dataset\n",
        "\n",
        "# dataset testing\n",
        "dataset = load_dataset(\"kyujinpy/KOpen-platypus\", token=True)"
      ]
    },
    {
      "cell_type": "code",
      "execution_count": null,
      "metadata": {
        "colab": {
          "base_uri": "https://localhost:8080/"
        },
        "id": "CZZExGJzYyEA",
        "outputId": "421f2c4e-4f32-46f9-8c1c-77118f939456"
      },
      "outputs": [
        {
          "data": {
            "text/plain": [
              "DatasetDict({\n",
              "    train: Dataset({\n",
              "        features: ['input', 'output', 'instruction'],\n",
              "        num_rows: 24926\n",
              "    })\n",
              "})"
            ]
          },
          "execution_count": 11,
          "metadata": {},
          "output_type": "execute_result"
        }
      ],
      "source": [
        "dataset"
      ]
    },
    {
      "cell_type": "code",
      "execution_count": null,
      "metadata": {
        "id": "g6tgnOuXx1TG"
      },
      "outputs": [],
      "source": []
    }
  ],
  "metadata": {
    "accelerator": "GPU",
    "colab": {
      "gpuType": "A100",
      "machine_shape": "hm",
      "provenance": []
    },
    "kernelspec": {
      "display_name": "Python 3",
      "name": "python3"
    },
    "language_info": {
      "name": "python"
    },
    "varInspector": {
      "cols": {
        "lenName": 16,
        "lenType": 16,
        "lenVar": 40
      },
      "kernels_config": {
        "python": {
          "delete_cmd_postfix": "",
          "delete_cmd_prefix": "del ",
          "library": "var_list.py",
          "varRefreshCmd": "print(var_dic_list())"
        },
        "r": {
          "delete_cmd_postfix": ") ",
          "delete_cmd_prefix": "rm(",
          "library": "var_list.r",
          "varRefreshCmd": "cat(var_dic_list()) "
        }
      },
      "types_to_exclude": [
        "module",
        "function",
        "builtin_function_or_method",
        "instance",
        "_Feature"
      ],
      "window_display": false
    }
  },
  "nbformat": 4,
  "nbformat_minor": 0
}
